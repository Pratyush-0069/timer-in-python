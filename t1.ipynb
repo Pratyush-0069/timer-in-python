{
 "cells": [
  {
   "cell_type": "code",
   "execution_count": 4,
   "id": "ac39864e",
   "metadata": {},
   "outputs": [],
   "source": [
    "import tkinter as tk\n",
    "import datetime\n",
    "import winsound as ws"
   ]
  },
  {
   "cell_type": "code",
   "execution_count": 5,
   "id": "83b88d0e",
   "metadata": {},
   "outputs": [],
   "source": [
    "#timer class\n",
    "class Timer(tk.Frame):\n",
    "    def __init__(self,master):\n",
    "        super().__init__(master)\n",
    "        self.create_widgets()\n",
    "        self.show_widgets()\n",
    "        self.sec_left=0\n",
    "        self._timer_on=False\n",
    "    def show_widgets(self):\n",
    "        self.label.pack()\n",
    "        self.entry.pack()\n",
    "        self.start.pack()\n",
    "        self.stop.pack()\n",
    "        self.reset.pack()\n",
    "        \n",
    "    def create_widgets(self):\n",
    "        self.label=tk.Label(self,text=\"Enter time in seconds\")\n",
    "        self.entry=tk.Entry(self,justify=\"center\")\n",
    "        self.entry.focus_set()\n",
    "        self.reset=tk.Button(self,text=\"Reset\",command=self.reset_button)\n",
    "        self.stop=tk.Button(self,text=\"Stop\",command=self.stop_button)\n",
    "        self.start=tk.Button(self,text=\"Start\",command=self.start_button)\n",
    "        \n",
    "    def countdown(self):\n",
    "        self.label[\"text\"]=self.convert_seconds_left_to_time()\n",
    "        if self.sec_left:\n",
    "            self.sec_left-=1\n",
    "            self._timer_on=self.after(1000,self.countdown)\n",
    "        else:\n",
    "            self._timer_on=False\n",
    "            ws.PlaySound(\"ACS\",ws.SND_FILENAME)\n",
    "    def reset_button(self):\n",
    "        self.sec_left=0\n",
    "        self.stop_timer()\n",
    "        self._timer_on=False\n",
    "        self.label[\"text\"]=\"Enter the time in seconds\"\n",
    "        self.start.forget()\n",
    "        self.stop.forget()\n",
    "        self.reset.forget()\n",
    "        self.start.pack()\n",
    "        self.stop.pack()\n",
    "        self.reset.pack()\n",
    "        \n",
    "    def stop_button(self):\n",
    "        self.sec_left=int(self.entry.get())\n",
    "        self.stop_timer()\n",
    "    \n",
    "    def start_button(self):\n",
    "        self.sec_left=int(self.entry.get())\n",
    "        self.stop_timer()\n",
    "        self.countdown()\n",
    "        self.start.forget()\n",
    "        self.stop.forget()\n",
    "        self.reset.forget()\n",
    "        self.start.pack()\n",
    "        self.stop.pack()\n",
    "        self.reset.pack()\n",
    "        \n",
    "    def stop_timer(self):\n",
    "        if self._timer_on:\n",
    "            self.after_cancel(self._timer_on)\n",
    "            self._timer_on=False\n",
    "    def convert_seconds_left_to_time(self):\n",
    "        return datetime.timedelta(seconds=self.sec_left)"
   ]
  },
  {
   "cell_type": "code",
   "execution_count": 6,
   "id": "84e8c468",
   "metadata": {},
   "outputs": [],
   "source": [
    "if __name__==\"__main__\":\n",
    "    root=tk.Tk()\n",
    "    root.resizable(False,False)\n",
    "    timer=Timer(root)\n",
    "    timer.pack()\n",
    "    root.mainloop()"
   ]
  }
 ],
 "metadata": {
  "kernelspec": {
   "display_name": "Python 3 (ipykernel)",
   "language": "python",
   "name": "python3"
  },
  "language_info": {
   "codemirror_mode": {
    "name": "ipython",
    "version": 3
   },
   "file_extension": ".py",
   "mimetype": "text/x-python",
   "name": "python",
   "nbconvert_exporter": "python",
   "pygments_lexer": "ipython3",
   "version": "3.9.7"
  }
 },
 "nbformat": 4,
 "nbformat_minor": 5
}
